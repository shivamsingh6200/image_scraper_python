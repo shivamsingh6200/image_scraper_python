{
 "cells": [
  {
   "cell_type": "markdown",
   "id": "3af649be",
   "metadata": {},
   "source": [
    "# image scraper"
   ]
  },
  {
   "cell_type": "markdown",
   "id": "b1385d8b",
   "metadata": {},
   "source": [
    "here we import the required libraries"
   ]
  },
  {
   "cell_type": "code",
   "execution_count": 2,
   "id": "e56447a3",
   "metadata": {},
   "outputs": [],
   "source": [
    "import requests\n",
    "from bs4 import BeautifulSoup\n",
    "from urllib.request import urlopen as uReq\n",
    "import os"
   ]
  },
  {
   "cell_type": "markdown",
   "id": "b80044db",
   "metadata": {},
   "source": [
    "now we take the input from the user of the folder name \n",
    "if it is already available then pic will download in that folder\n",
    "else it will create a new folder"
   ]
  },
  {
   "cell_type": "code",
   "execution_count": 3,
   "id": "ecade39d",
   "metadata": {},
   "outputs": [
    {
     "name": "stdout",
     "output_type": "stream",
     "text": [
      "Enter the name of folder in which you want the images : lalu\n",
      "lalu/\n"
     ]
    }
   ],
   "source": [
    "save_dir = input(\"Enter the name of folder in which you want the images : \")+\"/\"\n",
    "print(save_dir)\n",
    "if not os.path.exists(save_dir):\n",
    "    os.makedirs(save_dir)"
   ]
  },
  {
   "cell_type": "code",
   "execution_count": null,
   "id": "bf7fc49e",
   "metadata": {},
   "outputs": [],
   "source": []
  },
  {
   "cell_type": "markdown",
   "id": "c40ab1be",
   "metadata": {},
   "source": [
    "here we take the input from user of what he was trying to download the images. and search it and store the contents in response by the help of request lib"
   ]
  },
  {
   "cell_type": "code",
   "execution_count": 4,
   "id": "cb751670",
   "metadata": {},
   "outputs": [
    {
     "name": "stdout",
     "output_type": "stream",
     "text": [
      "Enter the Name you want to dowload the images : lalu yadav son\n"
     ]
    }
   ],
   "source": [
    "query=input(\"Enter the Name you want to dowload the images : \")\n",
    "response=requests.get(f\"https://www.google.com/search?q={query}&sca_esv=577080029&tbm=isch&sxsrf=AM9HkKkMezkUEjnScgnEpwa5spls_La8wg%3A1698389295307&source=hp&biw=1536&bih=739&ei=L107ZeetELOk2roPw9u8cA&iflsig=AO6bgOgAAAAAZTtrPwlqTA20SzQDsonOCMN9cplPb9Zo&ved=0ahUKEwingYqV0ZWCAxUzklYBHcMtDw4Q4dUDCAc&uact=5&oq=cat&gs_lp=EgNpbWciA2NhdDIIEAAYgAQYsQMyCBAAGIAEGLEDMggQABiABBixAzIIEAAYgAQYsQMyCBAAGIAEGLEDMggQABiABBixAzIIEAAYgAQYsQMyCBAAGIAEGLEDMgUQABiABDIIEAAYgAQYsQNI_h5Q9hBYmxNwAXgAkAEAmAGpAaAB5QOqAQMwLjO4AQPIAQD4AQGKAgtnd3Mtd2l6LWltZ6gCCsICBxAjGOoCGCfCAggQABixAxiDAQ&sclient=img\")"
   ]
  },
  {
   "cell_type": "code",
   "execution_count": 5,
   "id": "f5878206",
   "metadata": {
    "scrolled": true
   },
   "outputs": [
    {
     "data": {
      "text/plain": [
       "<Response [200]>"
      ]
     },
     "execution_count": 5,
     "metadata": {},
     "output_type": "execute_result"
    }
   ],
   "source": [
    "response"
   ]
  },
  {
   "cell_type": "markdown",
   "id": "b2e494f6",
   "metadata": {},
   "source": [
    "here BeautifulSoup is used to store all the contents of the response in the html format in soup variable"
   ]
  },
  {
   "cell_type": "code",
   "execution_count": 6,
   "id": "49fe15d2",
   "metadata": {},
   "outputs": [],
   "source": [
    "soup = BeautifulSoup(response.content,\"html.parser\")"
   ]
  },
  {
   "cell_type": "markdown",
   "id": "62f4008a",
   "metadata": {},
   "source": [
    "here we extract the link of all the images from the html file in image_tags list"
   ]
  },
  {
   "cell_type": "code",
   "execution_count": 7,
   "id": "81d8679a",
   "metadata": {},
   "outputs": [],
   "source": [
    "image_tags=soup.find_all(\"img\")"
   ]
  },
  {
   "cell_type": "code",
   "execution_count": null,
   "id": "8585a396",
   "metadata": {},
   "outputs": [],
   "source": []
  },
  {
   "cell_type": "code",
   "execution_count": 8,
   "id": "02db2b99",
   "metadata": {},
   "outputs": [
    {
     "data": {
      "text/plain": [
       "21"
      ]
     },
     "execution_count": 8,
     "metadata": {},
     "output_type": "execute_result"
    }
   ],
   "source": [
    "len(image_tags)"
   ]
  },
  {
   "cell_type": "markdown",
   "id": "37261d5c",
   "metadata": {},
   "source": [
    "we are deleting the first link because it doesnot contains the image"
   ]
  },
  {
   "cell_type": "code",
   "execution_count": 9,
   "id": "0f2497bd",
   "metadata": {},
   "outputs": [],
   "source": [
    "del image_tags[0]"
   ]
  },
  {
   "cell_type": "markdown",
   "id": "23175766",
   "metadata": {},
   "source": [
    "by the help of for loop we are accessing  the images and storing in the folder. default images are in the binary format so we use .jpg to store the images in the jpg formate"
   ]
  },
  {
   "cell_type": "code",
   "execution_count": 10,
   "id": "18d853e1",
   "metadata": {},
   "outputs": [],
   "source": [
    "for i in image_tags:\n",
    "    image_url = i['src']\n",
    "    image_data = requests.get(image_url).content\n",
    "    with open(os.path.join(save_dir,f\"{query}_{image_tags.index(i)}.jpg\"),\"wb\") as f:\n",
    "        f.write(image_data)"
   ]
  },
  {
   "cell_type": "code",
   "execution_count": null,
   "id": "a4c328fc",
   "metadata": {},
   "outputs": [],
   "source": []
  },
  {
   "cell_type": "code",
   "execution_count": null,
   "id": "8a95af7b",
   "metadata": {},
   "outputs": [],
   "source": []
  },
  {
   "cell_type": "code",
   "execution_count": null,
   "id": "cf146f7d",
   "metadata": {},
   "outputs": [],
   "source": []
  },
  {
   "cell_type": "code",
   "execution_count": null,
   "id": "4b5caf29",
   "metadata": {},
   "outputs": [],
   "source": []
  },
  {
   "cell_type": "code",
   "execution_count": null,
   "id": "dae52e4e",
   "metadata": {},
   "outputs": [],
   "source": []
  },
  {
   "cell_type": "code",
   "execution_count": null,
   "id": "2bb49bb3",
   "metadata": {},
   "outputs": [],
   "source": []
  },
  {
   "cell_type": "code",
   "execution_count": null,
   "id": "4610d71c",
   "metadata": {},
   "outputs": [],
   "source": []
  },
  {
   "cell_type": "code",
   "execution_count": null,
   "id": "566b59ab",
   "metadata": {},
   "outputs": [],
   "source": []
  },
  {
   "cell_type": "code",
   "execution_count": null,
   "id": "9a79edba",
   "metadata": {},
   "outputs": [],
   "source": []
  },
  {
   "cell_type": "code",
   "execution_count": null,
   "id": "84aa4120",
   "metadata": {},
   "outputs": [],
   "source": []
  },
  {
   "cell_type": "code",
   "execution_count": null,
   "id": "c39b46c3",
   "metadata": {},
   "outputs": [],
   "source": []
  }
 ],
 "metadata": {
  "kernelspec": {
   "display_name": "Python 3 (ipykernel)",
   "language": "python",
   "name": "python3"
  },
  "language_info": {
   "codemirror_mode": {
    "name": "ipython",
    "version": 3
   },
   "file_extension": ".py",
   "mimetype": "text/x-python",
   "name": "python",
   "nbconvert_exporter": "python",
   "pygments_lexer": "ipython3",
   "version": "3.11.5"
  }
 },
 "nbformat": 4,
 "nbformat_minor": 5
}
